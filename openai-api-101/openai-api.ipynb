{
 "cells": [
  {
   "cell_type": "markdown",
   "metadata": {},
   "source": [
    "下面这段代码遇到两个问题：\n",
    "* 如何处理API_KEY环境变量的问题，试过把OPENAI_API_KEY放在.zshrc或者.bashrc中，但是这样做conda+vscode+jupyter的方式读不到，单纯用conda是可以的，为了节省时间，选择了dotenv的方式，这种方式本身也更合理一点\n",
    "* proxy的问题，这个我比较存疑，到底什么情况下需要这个配置，什么情况不需要，我之前在windows上测试过，没有这个配置开vpn就可以访问openai，现在在linux下试了很多方法，最后是加上这两行解决的，参考：https://zhuanlan.zhihu.com/p/350015032 和 https://zhuanlan.zhihu.com/p/611080662，可能得具体情况具体分析了，连不上的原因多种多样，反正我现在是通了，就不浪费时间了"
   ]
  },
  {
   "cell_type": "code",
   "execution_count": 5,
   "metadata": {},
   "outputs": [],
   "source": [
    "import os\n",
    "from dotenv import load_dotenv, find_dotenv\n",
    "\n",
    "_ = load_dotenv(find_dotenv())\n",
    "\n",
    "#os.environ[\"http_proxy\"] = \"http://localhost:7897\"\n",
    "#os.environ[\"https_proxy\"] = \"http://localhost:7897\""
   ]
  },
  {
   "cell_type": "markdown",
   "metadata": {},
   "source": [
    "下面的代码遇到的问题\n",
    "```python\n",
    "TypeError: Client.__init__() got an unexpected keyword argument 'proxies'\n",
    "```\n",
    "这个通过升级openai版本解决，我直接升到了最新"
   ]
  },
  {
   "cell_type": "code",
   "execution_count": 6,
   "metadata": {},
   "outputs": [
    {
     "name": "stdout",
     "output_type": "stream",
     "text": [
      "The purpose of life is a profound and subjective question that has been contemplated by philosophers, theologians, scientists, and individuals throughout history. Different cultures, belief systems, and personal experiences shape individual perspectives on this topic. Here are some common themes that people consider when thinking about the purpose of life:\n",
      "\n",
      "1. **Existential Exploration**: Some believe that the purpose of life is to seek personal meaning and self-actualization. This can involve pursuing passions, cultivating relationships, and experiencing the world.\n",
      "\n",
      "2. **Connection and Love**: Many find purpose in building loving relationships, whether with family, friends, or communities. Human connection often brings fulfillment and joy.\n",
      "\n",
      "3. **Contributing to Society**: Others see purpose in contributing to the greater good, whether through acts of kindness, service, or working to make the world a better place.\n",
      "\n",
      "4. **Spiritual and Religious Fulfillment**: For those who are religious or spiritual, life’s purpose may be tied to faith, worship, or fulfilling a divine plan.\n",
      "\n",
      "5. **Learning and Growth**: Some view life as a journey of learning, where personal development and the acquisition of knowledge are central to existence.\n",
      "\n",
      "6. **Happiness and Well-being**: The pursuit of happiness, contentment, and well-being is often considered a fundamental aspect of life’s purpose.\n",
      "\n",
      "Ultimately, the purpose of life can vary greatly from person to person, and many find that it evolves over time based on their experiences and reflections. What’s most important is what resonates personally with you.\n"
     ]
    }
   ],
   "source": [
    "\n",
    "\n",
    "from openai import OpenAI\n",
    "\n",
    "\n",
    "client = OpenAI(\n",
    "    api_key=os.environ.get(\"OPENAI_API_KEY\")\n",
    ")\n",
    "\n",
    "completion = client.chat.completions.create(\n",
    "    model=\"gpt-4o-mini\",\n",
    "    messages=[\n",
    "        {\"role\": \"system\", \"content\": \"You are a helpful assistant.\"},\n",
    "        {\"role\": \"user\", \"content\": \"What is the purpose of life?\"}\n",
    "    ]\n",
    ")\n",
    "print(completion.choices[0].message.content)"
   ]
  },
  {
   "cell_type": "markdown",
   "metadata": {},
   "source": []
  },
  {
   "cell_type": "code",
   "execution_count": null,
   "metadata": {},
   "outputs": [],
   "source": []
  }
 ],
 "metadata": {
  "kernelspec": {
   "display_name": "llm-universe",
   "language": "python",
   "name": "python3"
  },
  "language_info": {
   "codemirror_mode": {
    "name": "ipython",
    "version": 3
   },
   "file_extension": ".py",
   "mimetype": "text/x-python",
   "name": "python",
   "nbconvert_exporter": "python",
   "pygments_lexer": "ipython3",
   "version": "3.10.16"
  }
 },
 "nbformat": 4,
 "nbformat_minor": 2
}
