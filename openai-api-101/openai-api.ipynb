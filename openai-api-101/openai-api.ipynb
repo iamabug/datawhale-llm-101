{
 "cells": [
  {
   "cell_type": "markdown",
   "metadata": {},
   "source": [
    "下面这段代码遇到两个问题：\n",
    "* 如何处理API_KEY环境变量的问题，试过把OPENAI_API_KEY放在.zshrc或者.bashrc中，但是这样做conda+vscode+jupyter的方式读不到，单纯用conda是可以的，为了节省时间，选择了dotenv的方式，这种方式本身也更合理一点\n",
    "* proxy的问题，这个我比较存疑，到底什么情况下需要这个配置，什么情况不需要，我之前在windows上测试过，没有这个配置开vpn就可以访问openai，现在在linux下试了很多方法，最后是加上这两行解决的，参考：https://zhuanlan.zhihu.com/p/350015032 和 https://zhuanlan.zhihu.com/p/611080662 ，可能得具体情况具体分析了，连不上的原因多种多样，反正现在是通了，就不浪费时间了"
   ]
  },
  {
   "cell_type": "code",
   "execution_count": 1,
   "metadata": {},
   "outputs": [],
   "source": [
    "import os\n",
    "from dotenv import load_dotenv, find_dotenv\n",
    "\n",
    "_ = load_dotenv(find_dotenv())\n",
    "\n",
    "os.environ[\"http_proxy\"] = \"http://localhost:7897\"\n",
    "os.environ[\"https_proxy\"] = \"http://localhost:7897\""
   ]
  },
  {
   "cell_type": "markdown",
   "metadata": {},
   "source": [
    "下面的代码遇到的问题\n",
    "```python\n",
    "TypeError: Client.__init__() got an unexpected keyword argument 'proxies'\n",
    "```\n",
    "这个通过升级openai版本解决，我直接升到了最新"
   ]
  },
  {
   "cell_type": "code",
   "execution_count": 2,
   "metadata": {},
   "outputs": [
    {
     "name": "stdout",
     "output_type": "stream",
     "text": [
      "The purpose of life is a profound and complex question that has been explored by philosophers, theologians, scientists, and thinkers throughout history. It can vary significantly depending on individual beliefs, cultural backgrounds, and personal experiences. Here are some perspectives on the purpose of life:\n",
      "\n",
      "1. **Philosophical Views**: Different philosophical schools offer various interpretations of life's purpose. Existentialists might argue that individuals must create their own meaning, while utilitarians might suggest that the purpose of life is to seek happiness and reduce suffering for the greatest number of people.\n",
      "\n",
      "2. **Religious and Spiritual Beliefs**: Many religions provide frameworks for understanding life's purpose, often centered around concepts of faith, service, love, and connection with a higher power or humanity. For example, in Christianity, one might find purpose in serving God and others, while in Buddhism, it might be centered around the pursuit of enlightenment and compassion.\n",
      "\n",
      "3. **Scientific Perspectives**: From a biological standpoint, one might say the purpose of life is to survive and reproduce, ensuring the continuation of one’s genes and species. However, many scientists also acknowledge the subjective experiences and meanings that individuals attach to their lives.\n",
      "\n",
      "4. **Personal Development and Fulfillment**: For many, the purpose of life may be linked to personal growth, self-discovery, and the pursuit of happiness. Engaging in meaningful work, relationships, and experiences can be seen as contributing to one's sense of purpose.\n",
      "\n",
      "5. **Connection and Contribution**: Building relationships, contributing to society, and making a positive impact on the world can also serve as sources of purpose for many individuals. The sense of belonging and contributing to the greater good can be a guiding force in life.\n",
      "\n",
      "Ultimately, the purpose of life is deeply personal and can evolve over time as individuals reflect on their values, experiences, and aspirations. It's often a journey of exploration rather than a definitive answer.\n"
     ]
    }
   ],
   "source": [
    "\n",
    "\n",
    "from openai import OpenAI\n",
    "\n",
    "\n",
    "client = OpenAI(\n",
    "    api_key=os.environ.get(\"OPENAI_API_KEY\")\n",
    ")\n",
    "\n",
    "completion = client.chat.completions.create(\n",
    "    model=\"gpt-4o-mini\",\n",
    "    messages=[\n",
    "        {\"role\": \"system\", \"content\": \"You are a helpful assistant.\"},\n",
    "        {\"role\": \"user\", \"content\": \"What is the purpose of life?\"}\n",
    "    ]\n",
    ")\n",
    "print(completion.choices[0].message.content)"
   ]
  },
  {
   "cell_type": "markdown",
   "metadata": {},
   "source": []
  }
 ],
 "metadata": {
  "kernelspec": {
   "display_name": "llm-universe",
   "language": "python",
   "name": "python3"
  },
  "language_info": {
   "codemirror_mode": {
    "name": "ipython",
    "version": 3
   },
   "file_extension": ".py",
   "mimetype": "text/x-python",
   "name": "python",
   "nbconvert_exporter": "python",
   "pygments_lexer": "ipython3",
   "version": "3.10.16"
  }
 },
 "nbformat": 4,
 "nbformat_minor": 2
}
